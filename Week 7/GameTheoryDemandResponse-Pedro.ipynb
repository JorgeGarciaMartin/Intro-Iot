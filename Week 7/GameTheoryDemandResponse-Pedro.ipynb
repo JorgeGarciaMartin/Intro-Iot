{
  "cells": [
    {
      "cell_type": "code",
      "execution_count": 1,
      "metadata": {
        "trusted": true
      },
      "outputs": [],
      "source": [
        "from sympy import *\n",
        "init_printing(use_latex=\"mathjax\")"
      ]
    },
    {
      "cell_type": "code",
      "execution_count": 2,
      "metadata": {
        "trusted": true
      },
      "outputs": [],
      "source": [
        "p,alpha,beta,N,G = symbols(\"p alpha beta N G\")"
      ]
    },
    {
      "cell_type": "markdown",
      "metadata": {},
      "source": [
        "# Expressing a Demand Response Problem as a Game\n",
        "\n",
        "We assume there are two action\n",
        " + Participate: **P**\n",
        " + Don‘t participate: **D**\n",
        "\n",
        "Further the system might be of size **N**.\n",
        "The payoff could look like so:\n",
        "$$f(n) = \\begin{cases} -\\alpha-\\beta (\\#P-G)^2 &\\mbox{if } P \\\\ \n",
        "-\\beta (\\#P-G)^2 & \\mbox{if } D \\end{cases}$$\n",
        "\n",
        "where $\\#P$ is the number of P played by all players and $G$ is the number of P players needed to solve the issue in the system.\n",
        "\n",
        "## Two Person Game\n",
        "\n",
        "For a two player game we could then imageine three cases with $G=0,G=1$ and $G=2$.\n",
        "\n",
        "We further assume $\\alpha=0.1$ and $\\beta=1$.\n",
        "\n",
        "$G=0$\n",
        "\n",
        "| |P|D|\n",
        "|-|-|\n",
        "|**P**|(-4.1 \\ -4.1)|(-1.1 \\ -1)|\n",
        "|**D**|(-1 \\ -1.1)|(0 \\ 0)*|\n",
        "\n",
        "$G=1$\n",
        "\n",
        "| |P|D|\n",
        "|-|-|\n",
        "|**P**|(-1.1 \\ -1.1)|(-0.1 \\ 0)*|\n",
        "|**D**|(0 \\ -0.1)*|(-1 \\ -1)|\n",
        "\n",
        "$G=2$\n",
        "\n",
        "| |P|D|\n",
        "|-|-|\n",
        "|**P**|(0 \\ 0)*|(-1.1 \\ -1)|\n",
        "|**D**|(-1 \\ -1.1)|(-4 \\ -4)|\n",
        "\n",
        "The dominant strategies are market with *. As we can see for the first and the last case we have a pure Nash EQ. However the second case has a mixed EQ. "
      ]
    },
    {
      "cell_type": "code",
      "execution_count": 4,
      "metadata": {
        "collapsed": true,
        "trusted": false
      },
      "outputs": [],
      "source": [
        "math_equation = p**2*-1.1 + p*(1-p)*-0.1 + (1-p)**2*-1"
      ]
    },
    {
      "cell_type": "code",
      "execution_count": 5,
      "metadata": {
        "trusted": false
      },
      "outputs": [
        {
          "data": {
            "text/latex": [
              "$$\\left [ 0.475\\right ]$$"
            ],
            "text/plain": [
              "[0.475]"
            ]
          },
          "execution_count": 5,
          "metadata": {},
          "output_type": "execute_result"
        }
      ],
      "source": [
        "solve(diff(math_equation,p),p)"
      ]
    },
    {
      "cell_type": "code",
      "execution_count": 6,
      "metadata": {
        "collapsed": true,
        "trusted": false
      },
      "outputs": [],
      "source": [
        "math_equation_ext = p**2*(-beta-alpha) + p*(1-p)*-alpha + (1-p)**2*-beta"
      ]
    },
    {
      "cell_type": "code",
      "execution_count": 7,
      "metadata": {
        "trusted": false
      },
      "outputs": [
        {
          "data": {
            "text/latex": [
              "$$- \\frac{\\alpha}{4 \\beta} + \\frac{1}{2}$$"
            ],
            "text/plain": [
              "   α    1\n",
              "- ─── + ─\n",
              "  4⋅β   2"
            ]
          },
          "execution_count": 7,
          "metadata": {},
          "output_type": "execute_result"
        }
      ],
      "source": [
        "p_math_exterior = solve(diff(math_equation_ext,p),p)[0]\n",
        "expand(p_math_exterior)"
      ]
    },
    {
      "cell_type": "code",
      "execution_count": 8,
      "metadata": {
        "trusted": false
      },
      "outputs": [
        {
          "data": {
            "text/latex": [
              "$$- \\frac{\\alpha}{4} + \\frac{1}{2}$$"
            ],
            "text/plain": [
              "  α   1\n",
              "- ─ + ─\n",
              "  4   2"
            ]
          },
          "execution_count": 8,
          "metadata": {},
          "output_type": "execute_result"
        }
      ],
      "source": [
        "p_math_exterior .replace(beta,1)"
      ]
    },
    {
      "cell_type": "code",
      "execution_count": 9,
      "metadata": {
        "trusted": false
      },
      "outputs": [
        {
          "data": {
            "text/latex": [
              "$$0.475$$"
            ],
            "text/plain": [
              "0.475000000000000"
            ]
          },
          "execution_count": 9,
          "metadata": {},
          "output_type": "execute_result"
        }
      ],
      "source": [
        "p_math_exterior .replace(beta,1).replace(alpha,0.1)"
      ]
    },
    {
      "cell_type": "markdown",
      "metadata": {},
      "source": [
        "## (1+N)-person Game\n",
        "\n",
        "The expected output for one player given the uncertainty about the other $N$ players, but knowing that they participate with probability $p$ and don't with probability $1-p$:\n",
        "\n",
        "$U(p) = p\\;(- \\alpha - \\beta \\; \\mathbb{E}[(X-G)^2]) - (1-p) \\; \\beta \\; \\mathbb{E}[(X-G)^2]$,\n",
        "\n",
        "where $X \\sim \\mathrm{Binomial}(x;N,p)$ is a random variable that follows a binomial distribution.\n",
        "\n",
        "To make the derivation of the best $p$, we need to the first and the second moments.\n",
        "\n",
        "- $\\mathbb{E}[X] = p\\;N$\n",
        "\n",
        "- $\\mathbb{E}[X^2] = p\\;N \\;(1-p+p\\;N)$.\n",
        "\n",
        "We need to write $U(p)$ in terms of these moments and then find $dU(p)/dp = 0$."
      ]
    },
    {
      "cell_type": "code",
      "execution_count": 10,
      "metadata": {
        "trusted": false
      },
      "outputs": [
        {
          "data": {
            "text/latex": [
              "$$\\frac{- 2 G N \\beta + N \\beta + \\alpha}{2 N \\beta \\left(- N + 1\\right)}$$"
            ],
            "text/plain": [
              "-2⋅G⋅N⋅β + N⋅β + α\n",
              "──────────────────\n",
              "  2⋅N⋅β⋅(-N + 1)  "
            ]
          },
          "execution_count": 10,
          "metadata": {},
          "output_type": "execute_result"
        }
      ],
      "source": [
        "n_equation2 = (alpha + beta*N - 2*G*beta*N) / (2*beta*N*(1-N))\n",
        "n_equation2"
      ]
    },
    {
      "cell_type": "code",
      "execution_count": 16,
      "metadata": {
        "trusted": false
      },
      "outputs": [
        {
          "data": {
            "text/latex": [
              "$$0.624$$"
            ],
            "text/plain": [
              "0.624000000000000"
            ]
          },
          "execution_count": 16,
          "metadata": {},
          "output_type": "execute_result"
        }
      ],
      "source": [
        "n_equation2.replace(N,5).replace(G,3).replace(beta,10).replace(alpha,0.4)"
      ]
    },
    {
      "cell_type": "code",
      "execution_count": null,
      "metadata": {
        "collapsed": true,
        "trusted": false
      },
      "outputs": [],
      "source": []
    }
  ],
  "metadata": {
    "kernelspec": {
      "display_name": "Python 3",
      "language": "python",
      "name": "python3"
    },
    "language_info": {
      "codemirror_mode": {
        "name": "ipython",
        "version": 3
      },
      "file_extension": ".py",
      "mimetype": "text/x-python",
      "name": "python",
      "nbconvert_exporter": "python",
      "pygments_lexer": "ipython3",
      "version": "3.5.4"
    }
  },
  "nbformat": 4,
  "nbformat_minor": 2
}
